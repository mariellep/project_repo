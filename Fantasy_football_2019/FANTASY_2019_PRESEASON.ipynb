{
 "cells": [
  {
   "cell_type": "code",
   "execution_count": 1,
   "metadata": {},
   "outputs": [],
   "source": [
    "#This notebook uses an API that was built utilizing the ESPN Fantasy Football API \n",
    "#The documentation can be found here:\n",
    "#https://github.com/cwendt94/ff-espn-api\n",
    "\n",
    "%matplotlib inline\n",
    "#The necessary packages\n",
    "import pandas as pd\n",
    "import numpy as np\n",
    "import seaborn as sns\n",
    "from ff_espn_api import League\n",
    "\n",
    "#Info:\n",
    "league_id=4570371\n",
    "season=2019\n",
    "#team='10'"
   ]
  },
  {
   "cell_type": "code",
   "execution_count": 101,
   "metadata": {},
   "outputs": [],
   "source": [
    "#This is the personal league information\n",
    "league=League(league_id,2019)\n",
    "myTeam=league.teams[9]"
   ]
  },
  {
   "cell_type": "code",
   "execution_count": 184,
   "metadata": {},
   "outputs": [],
   "source": [
    "#Historical data: all credit goes to this page:\n",
    "#https://github.com/derek-adair/nflgame\n",
    "#The documentation for all of the functionality here:\n",
    "#http://nflgame.derekadair.com/\n",
    "#However, the more idiot proof guide is here (bless this person!!)\n",
    "#https://github.com/BurntSushi/nflgame/wiki/Tutorial-for-non-programmers:-Installation-and-examples\n",
    "import nflgame\n",
    "\n",
    "#Games from 2018\n",
    "games=nflgame.games(2018)\n",
    "players=nflgame.combine_play_stats(games)\n",
    "player_list=[p for p in players]\n",
    "player_names=[p.name for p in players]\n",
    "#Note: a guide to all available player stats can be found here: https://github.com/BurntSushi/nflgame/wiki/Stat-types"
   ]
  },
  {
   "cell_type": "code",
   "execution_count": 185,
   "metadata": {},
   "outputs": [],
   "source": [
    "#At the moment, the draft hasn't happened yet. \n",
    "#Filter the free agents by position and ranking\n",
    "positions=['QB','RB','WR','TE','FLEX','K']\n",
    "positionDict={}\n",
    "for pos in positions:\n",
    "    playerList=league.free_agents(position=pos)\n",
    "    playerDict={}\n",
    "    for p in playerList:\n",
    "        playerDict[p.name]={'Ranking':p.posRank,'Team':p.proTeam}\n",
    "    positionDict[pos]=playerDict\n",
    "\n",
    "#We'll keep a separate tally for defense \n",
    "defenseList=league.free_agents(position='D/ST')\n",
    "defenseDict={}\n",
    "for d in defenseList:\n",
    "    defenseDict[d.name]={'Ranking':d.posRank,'Team':d.proTeam}"
   ]
  },
  {
   "cell_type": "code",
   "execution_count": 190,
   "metadata": {},
   "outputs": [],
   "source": [
    "#Can we add more detailed stats to the list of players?\n",
    "for pos in positions:\n",
    "    sub_dict=positionDict[pos]\n",
    "    for p in sub_dict.keys():\n",
    "        finit=p[0]\n",
    "        lastname=p.split(\" \")[1]\n",
    "        nameFormat='{:}.{:}'.format(finit,lastname)\n",
    "        #Check if player is in list\n",
    "        pcheck=(nameFormat in player_names)\n",
    "        if pcheck==True:\n",
    "            pIndex=player_names.index(nameFormat)\n",
    "            playerStats=player_list[pIndex].stats\n",
    "            sub_dict[p]['stats']=playerStats\n",
    "    positionDict[pos]=sub_dict\n",
    "\n",
    "\n"
   ]
  },
  {
   "cell_type": "code",
   "execution_count": 214,
   "metadata": {},
   "outputs": [],
   "source": [
    "#If you want it in dataframe format...\n",
    "playerFrame=pd.DataFrame.from_dict({(i,j): positionDict[i][j] \n",
    "                           for i in positionDict.keys() \n",
    "                           for j in positionDict[i].keys()},\n",
    "                       orient='index')\n",
    "playerFrame=playerFrame.reset_index()\n",
    "playerFrame.columns=['Position','Name','Ranking','Team','Stats']\n",
    "playerFrame=playerFrame.dropna(subset=['Stats'])"
   ]
  },
  {
   "cell_type": "code",
   "execution_count": 216,
   "metadata": {},
   "outputs": [],
   "source": [
    "fullFrame=pd.concat([playerFrame.drop(['Stats'], axis=1), playerFrame['Stats'].apply(pd.Series)], axis=1)\n",
    "fullFrame.to_csv('2')"
   ]
  },
  {
   "cell_type": "code",
   "execution_count": 101,
   "metadata": {},
   "outputs": [],
   "source": [
    "#Another version:\n",
    "#Get the JSON table in easily readable format\n",
    "#Basic team info\n",
    "url='https://fantasy.espn.com/apis/v3/games/ffl/seasons/2019/segments/0/leagues/{:}'.format(league_id)\n",
    "r=requests.get(url)\n",
    "dat=r.json()"
   ]
  },
  {
   "cell_type": "code",
   "execution_count": null,
   "metadata": {},
   "outputs": [],
   "source": [
    "#Get the weekly matchup scores\n",
    "slotcodes={0:'QB',2:'RB',4:'WR',\n",
    "          6:'TE',16:'Def',17:'K',\n",
    "          20:'Bench',21:'IR',23:'Flex'\n",
    "          }\n",
    "url = 'https://fantasy.espn.com/apis/v3/games/ffl/seasons/' + \\\n",
    "      str(season) + '/segments/0/leagues/' + str(league_id) + \\\n",
    "      '?view=mMatchup&view=mMatchupScore'\n"
   ]
  },
  {
   "cell_type": "code",
   "execution_count": null,
   "metadata": {},
   "outputs": [],
   "source": [
    "data=[]\n",
    "print('Week ',end='')\n",
    "for week in range(1,2):\n",
    "    print(week,end=' ')\n",
    "    r=requests.get(url,params={'scoringPeriodId':week})\n",
    "    d=r.json()\n",
    "    for tm in d['teams']:\n",
    "        tmid=tm['id']\n",
    "        for p in tm['roster']['entries']:\n",
    "            name=p['playerPoolEntry']['player']['fullName']\n",
    "            slot=p['lineupSlotId']\n",
    "            pos=slotcodes[slot]\n",
    "            \n",
    "            inj='NA'\n",
    "            try:\n",
    "                inj=p['playerPoolEntry']['player']['injuryStatus']\n",
    "            except:\n",
    "                pass\n",
    "        proj,act=None,None\n",
    "        for stat in p['playerPoolEntry']['player']['stats']:\n",
    "            if stat['scoringPeriodId']!=week:\n",
    "                continue\n",
    "            if stat['statSourceId'] == 0:\n",
    "                act = stat['appliedTotal']\n",
    "            elif stat['statSourceId']==1:\n",
    "                proj=stat['appliedTotal']\n",
    "        data.append([\n",
    "                week, tmid, name, slot, pos, inj, proj, act\n",
    "        ])"
   ]
  },
  {
   "cell_type": "code",
   "execution_count": null,
   "metadata": {},
   "outputs": [],
   "source": [
    "data = pd.DataFrame(data, \n",
    "                    columns=['Week', 'Team', 'Player', 'Slot', \n",
    "                             'Pos', 'Status', 'Proj', 'Actual'])"
   ]
  },
  {
   "cell_type": "code",
   "execution_count": null,
   "metadata": {},
   "outputs": [],
   "source": []
  }
 ],
 "metadata": {
  "kernelspec": {
   "display_name": "Python 3",
   "language": "python",
   "name": "python3"
  },
  "language_info": {
   "codemirror_mode": {
    "name": "ipython",
    "version": 3
   },
   "file_extension": ".py",
   "mimetype": "text/x-python",
   "name": "python",
   "nbconvert_exporter": "python",
   "pygments_lexer": "ipython3",
   "version": "3.7.2"
  }
 },
 "nbformat": 4,
 "nbformat_minor": 2
}
