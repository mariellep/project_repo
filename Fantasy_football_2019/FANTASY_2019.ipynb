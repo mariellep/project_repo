{
 "cells": [
  {
   "cell_type": "code",
   "execution_count": 1,
   "metadata": {},
   "outputs": [],
   "source": [
    "#Guide here: https://stmorse.github.io/journal/espn-fantasy-v3.html\n",
    "#https://github.com/cwendt94/ff-espn-api\n",
    "%matplotlib inline\n",
    "#The necessary packages\n",
    "import requests\n",
    "import pandas as pd\n",
    "import numpy as np\n",
    "import seaborn as sns\n",
    "from ff_espn_api import League\n",
    "#Info:\n",
    "league_id=4570371\n",
    "season=2019\n",
    "#team='10'"
   ]
  },
  {
   "cell_type": "code",
   "execution_count": 2,
   "metadata": {},
   "outputs": [],
   "source": [
    "league=League(league_id,2019)\n",
    "myTeam=league.teams[9]"
   ]
  },
  {
   "cell_type": "code",
   "execution_count": 11,
   "metadata": {},
   "outputs": [
    {
     "data": {
      "text/plain": [
       "[Team(Blue Bearies),\n",
       " Team(Team 2),\n",
       " Team(Team 3),\n",
       " Team(Team 4),\n",
       " Team(Team 5),\n",
       " Team(Team 6),\n",
       " Team(Team 7),\n",
       " Team(Team 8),\n",
       " Team(Team 9),\n",
       " Team(Rakdos Hackrobats),\n",
       " Team(Lil Chubb'rs),\n",
       " Team(Team 12)]"
      ]
     },
     "execution_count": 11,
     "metadata": {},
     "output_type": "execute_result"
    }
   ],
   "source": [
    "#This will be updated as the info is added\n",
    "league.teams"
   ]
  },
  {
   "cell_type": "code",
   "execution_count": 5,
   "metadata": {},
   "outputs": [],
   "source": [
    "#Another version:\n",
    "#Get the JSON table in easily readable format\n",
    "#Basic team info\n",
    "url='https://fantasy.espn.com/apis/v3/games/ffl/seasons/2019/segments/0/leagues/{:}'.format(league_id)\n",
    "r=requests.get(url)\n",
    "dat=r.json()"
   ]
  },
  {
   "cell_type": "code",
   "execution_count": null,
   "metadata": {},
   "outputs": [],
   "source": [
    "#Get the weekly matchup scores\n",
    "slotcodes={0:'QB',2:'RB',4:'WR',\n",
    "          6:'TE',16:'Def',17:'K',\n",
    "          20:'Bench',21:'IR',23:'Flex'\n",
    "          }\n",
    "url = 'https://fantasy.espn.com/apis/v3/games/ffl/seasons/' + \\\n",
    "      str(season) + '/segments/0/leagues/' + str(league_id) + \\\n",
    "      '?view=mMatchup&view=mMatchupScore'\n"
   ]
  },
  {
   "cell_type": "code",
   "execution_count": null,
   "metadata": {},
   "outputs": [],
   "source": [
    "data=[]\n",
    "print('Week ',end='')\n",
    "for week in range(1,2):\n",
    "    print(week,end=' ')\n",
    "    r=requests.get(url,params={'scoringPeriodId':week})\n",
    "    d=r.json()\n",
    "    for tm in d['teams']:\n",
    "        tmid=tm['id']\n",
    "        for p in tm['roster']['entries']:\n",
    "            name=p['playerPoolEntry']['player']['fullName']\n",
    "            slot=p['lineupSlotId']\n",
    "            pos=slotcodes[slot]\n",
    "            \n",
    "            inj='NA'\n",
    "            try:\n",
    "                inj=p['playerPoolEntry']['player']['injuryStatus']\n",
    "            except:\n",
    "                pass\n",
    "        proj,act=None,None\n",
    "        for stat in p['playerPoolEntry']['player']['stats']:\n",
    "            if stat['scoringPeriodId']!=week:\n",
    "                continue\n",
    "            if stat['statSourceId'] == 0:\n",
    "                act = stat['appliedTotal']\n",
    "            elif stat['statSourceId']==1:\n",
    "                proj=stat['appliedTotal']\n",
    "        data.append([\n",
    "                week, tmid, name, slot, pos, inj, proj, act\n",
    "        ])"
   ]
  },
  {
   "cell_type": "code",
   "execution_count": null,
   "metadata": {},
   "outputs": [],
   "source": [
    "data = pd.DataFrame(data, \n",
    "                    columns=['Week', 'Team', 'Player', 'Slot', \n",
    "                             'Pos', 'Status', 'Proj', 'Actual'])"
   ]
  },
  {
   "cell_type": "code",
   "execution_count": null,
   "metadata": {},
   "outputs": [],
   "source": []
  }
 ],
 "metadata": {
  "kernelspec": {
   "display_name": "Python 3",
   "language": "python",
   "name": "python3"
  },
  "language_info": {
   "codemirror_mode": {
    "name": "ipython",
    "version": 3
   },
   "file_extension": ".py",
   "mimetype": "text/x-python",
   "name": "python",
   "nbconvert_exporter": "python",
   "pygments_lexer": "ipython3",
   "version": "3.7.2"
  }
 },
 "nbformat": 4,
 "nbformat_minor": 2
}
